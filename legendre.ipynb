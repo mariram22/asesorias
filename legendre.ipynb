{
 "cells": [
  {
   "cell_type": "code",
   "execution_count": 2,
   "metadata": {},
   "outputs": [],
   "source": [
    "import sympy as sp\n",
    "x = sp.symbols('x')\n",
    "polynomial = 4*x**3 - 3*x"
   ]
  },
  {
   "cell_type": "code",
   "execution_count": 3,
   "metadata": {},
   "outputs": [
    {
     "name": "stdout",
     "output_type": "stream",
     "text": [
      "[0, -3/5, 0, 8/5]\n"
     ]
    }
   ],
   "source": [
    "def coef_legendre(polinomio):\n",
    "    grado_maximo = polinomio.as_poly().degree()\n",
    "    coeficientes = [0] * (grado_maximo + 1) \n",
    "    while polinomio != 0:\n",
    "        try:\n",
    "            grado = polinomio.as_poly().degree()\n",
    "        except AttributeError:\n",
    "            grado = 0\n",
    "        pol_legendre = sp.legendre_poly(grado, x)\n",
    "        try:\n",
    "            coef1 = polinomio.as_poly().all_coeffs()[0]\n",
    "        except AttributeError:\n",
    "            coef1 = polinomio\n",
    "        try:\n",
    "            coef2 = pol_legendre.as_poly().all_coeffs()[0]\n",
    "        except AttributeError:\n",
    "            coef2 = pol_legendre\n",
    "        coeficientes[grado] = (coef1 / coef2)\n",
    "        polinomio = polinomio - (coef1 / coef2) * pol_legendre\n",
    "    return coeficientes\n",
    "\n",
    "print(coef_legendre(polynomial))"
   ]
  },
  {
   "cell_type": "code",
   "execution_count": 98,
   "metadata": {},
   "outputs": [
    {
     "data": {
      "text/plain": [
       "[1/5, -1/7, 4/7, -8/9, 8/35, 128/63]"
      ]
     },
     "execution_count": 98,
     "metadata": {},
     "output_type": "execute_result"
    }
   ],
   "source": [
    "coef_legendre((16 * x ** 5 + x**4 - 20 * x**3 + 5 * x).as_poly())"
   ]
  },
  {
   "cell_type": "code",
   "execution_count": 88,
   "metadata": {},
   "outputs": [],
   "source": [
    "def reconstruir_polinomio(coeficientes):\n",
    "    x = sp.Symbol('x')\n",
    "    polinomio = 0\n",
    "    for grado, coef in enumerate(coeficientes):\n",
    "        pol_legendre = sp.legendre(grado, x)  # Generar el polinomio de Legendre del grado actual\n",
    "        polinomio += coef * pol_legendre      # Sumar los polinomios de Legendre multiplicados por los coeficientes\n",
    "    return sp.simplify(polinomio)  # Simplificar para combinar términos de manera ordenada"
   ]
  },
  {
   "cell_type": "code",
   "execution_count": 99,
   "metadata": {},
   "outputs": [
    {
     "name": "stdout",
     "output_type": "stream",
     "text": [
      "Original: 3*x**3 + 2*x + 1, Reconstructed: 3*x**3 + 2*x + 1\n",
      "Original: 5*x**4 - 4*x**2 + 3, Reconstructed: 5*x**4 - 4*x**2 + 3\n",
      "Original: x**2 + 2*x + 4, Reconstructed: x**2 + 2*x + 4\n",
      "Original: x**3 + x, Reconstructed: x**3 + x\n"
     ]
    }
   ],
   "source": [
    "def probar_coef_legendre():\n",
    "    # Casos de prueba de ejemplo\n",
    "    x = sp.Symbol('x')\n",
    "    \n",
    "    # Prueba 1: Polinomio 3*x**3 + 2*x + 1\n",
    "    polinomio1 = 3*x**3 + 2*x + 1\n",
    "    coeficientes1 = coef_legendre(polinomio1)\n",
    "    polinomio_reconstruido1 = reconstruir_polinomio(coeficientes1)\n",
    "    print(f\"Original: {polinomio1}, Reconstruido: {polinomio_reconstruido1}\")\n",
    "\n",
    "    # Prueba 2: Polinomio 5*x**4 - 4*x**2 + 3\n",
    "    polinomio2 = 5*x**4 - 4*x**2 + 3\n",
    "    coeficientes2 = coef_legendre(polinomio2)\n",
    "    polinomio_reconstruido2 = reconstruir_polinomio(coeficientes2)\n",
    "    print(f\"Original: {polinomio2}, Reconstruido: {polinomio_reconstruido2}\")\n",
    "\n",
    "    # Prueba 3: Polinomio x**2 + 2*x + 4\n",
    "    polinomio3 = x**2 + 2*x + 4\n",
    "    coeficientes3 = coef_legendre(polinomio3)\n",
    "    polinomio_reconstruido3 = reconstruir_polinomio(coeficientes3)\n",
    "    print(f\"Original: {polinomio3}, Reconstruido: {polinomio_reconstruido3}\")\n",
    "\n",
    "    # Prueba 4: Polinomio con grados faltantes: x**3 + x\n",
    "    polinomio4 = x**3 + x\n",
    "    coeficientes4 = coef_legendre(polinomio4)\n",
    "    polinomio_reconstruido4 = reconstruir_polinomio(coeficientes4)\n",
    "    print(f\"Original: {polinomio4}, Reconstruido: {polinomio_reconstruido4}\")\n",
    "\n",
    "# Ejecutar la prueba\n",
    "probar_coef_legendre()"
   ]
  }
 ],
 "metadata": {
  "kernelspec": {
   "display_name": ".venv",
   "language": "python",
   "name": "python3"
  },
  "language_info": {
   "codemirror_mode": {
    "name": "ipython",
    "version": 3
   },
   "file_extension": ".py",
   "mimetype": "text/x-python",
   "name": "python",
   "nbconvert_exporter": "python",
   "pygments_lexer": "ipython3",
   "version": "3.10.12"
  }
 },
 "nbformat": 4,
 "nbformat_minor": 2
}
