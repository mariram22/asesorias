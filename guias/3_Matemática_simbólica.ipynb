{
  "cells": [
    {
      "cell_type": "markdown",
      "metadata": {
        "tags": [],
        "id": "jXpbps0-Qlt1"
      },
      "source": [
        "# <font color='red'> <center>MATÉMATICA SIMBÓLICA</center></font>\n",
        "\n",
        "Python también permite realizar operaciones a través de expresiones simbólicas, esto utilizando la librería 'sympy'.\n",
        "\n",
        "Documentación oficial: https://docs.sympy.org/latest/index.html"
      ]
    },
    {
      "cell_type": "code",
      "execution_count": null,
      "metadata": {
        "id": "AnJu7jsyQlt5"
      },
      "outputs": [],
      "source": [
        "import sympy as sp"
      ]
    },
    {
      "cell_type": "markdown",
      "metadata": {
        "id": "_jwB9SThQlt6"
      },
      "source": [
        "Creemos una variable f1 que exprese la combinación de diferentes tipos de funciones:"
      ]
    },
    {
      "cell_type": "code",
      "execution_count": null,
      "metadata": {
        "colab": {
          "base_uri": "https://localhost:8080/",
          "height": 38
        },
        "id": "WLiQf9tEQlt6",
        "outputId": "451b9b30-a5d5-4cd6-9bdc-97801a3e5f84"
      },
      "outputs": [
        {
          "output_type": "execute_result",
          "data": {
            "text/plain": [
              "exp(-0.05*x)*sin(x)"
            ],
            "text/latex": "$\\displaystyle e^{- 0.05 x} \\sin{\\left(x \\right)}$"
          },
          "metadata": {},
          "execution_count": 2
        }
      ],
      "source": [
        "x=sp.Symbol('x')\n",
        "f1=sp.exp(-0.05*x)*sp.sin(x)\n",
        "f1"
      ]
    },
    {
      "cell_type": "code",
      "execution_count": null,
      "metadata": {
        "colab": {
          "base_uri": "https://localhost:8080/",
          "height": 38
        },
        "id": "eokfYkSJQlt7",
        "outputId": "ada0d9d8-82fc-4693-fe3f-58dca8f54161"
      },
      "outputs": [
        {
          "output_type": "execute_result",
          "data": {
            "text/plain": [
              "3*x**2 + x - 1"
            ],
            "text/latex": "$\\displaystyle 3 x^{2} + x - 1$"
          },
          "metadata": {},
          "execution_count": 3
        }
      ],
      "source": [
        "f2=3*x**2+x-1\n",
        "f2"
      ]
    },
    {
      "cell_type": "markdown",
      "metadata": {
        "id": "27eVySYAQlt7"
      },
      "source": [
        "A continuación, se realiza la división de estas funciones (también podemos realizar cualquier otro tipo de operación aritmética):"
      ]
    },
    {
      "cell_type": "code",
      "execution_count": null,
      "metadata": {
        "colab": {
          "base_uri": "https://localhost:8080/",
          "height": 55
        },
        "id": "MLwBSem-Qlt7",
        "outputId": "7ca5957a-607b-45c7-aa07-650cd4728184"
      },
      "outputs": [
        {
          "output_type": "execute_result",
          "data": {
            "text/plain": [
              "exp(-0.05*x)*sin(x)/(3*x**2 + x - 1)"
            ],
            "text/latex": "$\\displaystyle \\frac{e^{- 0.05 x} \\sin{\\left(x \\right)}}{3 x^{2} + x - 1}$"
          },
          "metadata": {},
          "execution_count": 4
        }
      ],
      "source": [
        "f3=f1/f2\n",
        "f3"
      ]
    },
    {
      "cell_type": "markdown",
      "metadata": {
        "id": "LhMOoAwXQlt8"
      },
      "source": [
        "Si se requiere evaluar alguna de estas expresiones simbólicas, se utiliza lambidy:"
      ]
    },
    {
      "cell_type": "code",
      "execution_count": null,
      "metadata": {
        "colab": {
          "base_uri": "https://localhost:8080/"
        },
        "id": "HgvlWPzeQlt8",
        "outputId": "f5f90d11-e66f-461f-ed3e-8aa7f92b0b50"
      },
      "outputs": [
        {
          "output_type": "execute_result",
          "data": {
            "text/plain": [
              "0.2668106535376215"
            ]
          },
          "metadata": {},
          "execution_count": 5
        }
      ],
      "source": [
        "f3lambidy=sp.lambdify(x,f3)\n",
        "f3lambidy(1)"
      ]
    },
    {
      "cell_type": "markdown",
      "metadata": {
        "id": "jY7Ic9V9Qlt8"
      },
      "source": [
        "Ahora expandamos, simplifiquemos y factoricemos alguna expresión simbólica:"
      ]
    },
    {
      "cell_type": "code",
      "execution_count": null,
      "metadata": {
        "colab": {
          "base_uri": "https://localhost:8080/",
          "height": 38
        },
        "id": "XnC7ZzcJQlt8",
        "outputId": "9f519ebf-4547-4fc3-c6e5-d1c40e07f88f"
      },
      "outputs": [
        {
          "output_type": "execute_result",
          "data": {
            "text/plain": [
              "27*x**3 + 54*x**2 + 36*x + 8"
            ],
            "text/latex": "$\\displaystyle 27 x^{3} + 54 x^{2} + 36 x + 8$"
          },
          "metadata": {},
          "execution_count": 6
        }
      ],
      "source": [
        "re=sp.expand((3*x+2)**3)\n",
        "re"
      ]
    },
    {
      "cell_type": "code",
      "execution_count": null,
      "metadata": {
        "colab": {
          "base_uri": "https://localhost:8080/",
          "height": 38
        },
        "id": "EGqIpC4fQlt9",
        "outputId": "5c901746-3325-4c80-a48e-46e528702282"
      },
      "outputs": [
        {
          "output_type": "execute_result",
          "data": {
            "text/plain": [
              "-99*x**2 - 5*sin(x)"
            ],
            "text/latex": "$\\displaystyle - 99 x^{2} - 5 \\sin{\\left(x \\right)}$"
          },
          "metadata": {},
          "execution_count": 7
        }
      ],
      "source": [
        "rs=sp.simplify(10*sp.sin(x)-15*sp.sin(x)+x**2-100*x**2)\n",
        "rs"
      ]
    },
    {
      "cell_type": "code",
      "execution_count": null,
      "metadata": {
        "colab": {
          "base_uri": "https://localhost:8080/",
          "height": 39
        },
        "id": "601piGDrQlt9",
        "outputId": "6e06f0b8-4a88-4ddd-d915-fb92bccc6eb2"
      },
      "outputs": [
        {
          "output_type": "execute_result",
          "data": {
            "text/plain": [
              "(3*x + 2)**3"
            ],
            "text/latex": "$\\displaystyle \\left(3 x + 2\\right)^{3}$"
          },
          "metadata": {},
          "execution_count": 8
        }
      ],
      "source": [
        "rf=sp.factor(re)\n",
        "rf"
      ]
    },
    {
      "cell_type": "markdown",
      "metadata": {
        "id": "80z13wb8Qlt9"
      },
      "source": [
        "Podemos resolver ecuaciones o sistemas de ecuaciones:"
      ]
    },
    {
      "cell_type": "code",
      "execution_count": null,
      "metadata": {
        "colab": {
          "base_uri": "https://localhost:8080/"
        },
        "id": "9S4acWTsQlt9",
        "outputId": "c6c26c14-fb19-4640-a8cd-1faa1565b16c"
      },
      "outputs": [
        {
          "output_type": "execute_result",
          "data": {
            "text/plain": [
              "(0, 1)"
            ]
          },
          "metadata": {},
          "execution_count": 9
        }
      ],
      "source": [
        "ecuacion=x**2-x\n",
        "raices=sp.solveset(ecuacion, x) # resolver ecuacion\n",
        "raices.args[0],raices.args[1]"
      ]
    },
    {
      "cell_type": "code",
      "execution_count": null,
      "metadata": {
        "colab": {
          "base_uri": "https://localhost:8080/"
        },
        "id": "zEl7jw40Qlt-",
        "outputId": "27877c07-88b5-49d7-edf6-4e1146b6f6e4"
      },
      "outputs": [
        {
          "output_type": "execute_result",
          "data": {
            "text/plain": [
              "(-3, 1)"
            ]
          },
          "metadata": {},
          "execution_count": 10
        }
      ],
      "source": [
        "y=sp.Symbol('y')\n",
        "solucion = sp.solve((x+5*y-2,-3*x+6*y-15), (x, y)) # resolver sistema de ecuaciones\n",
        "solucion[x],solucion[y]"
      ]
    },
    {
      "cell_type": "markdown",
      "metadata": {
        "id": "LgpQ-T5xQlt-"
      },
      "source": [
        "De igual manera, podemos usar sympy para realizar operaciones propias del cálculo como lo son los límites, derivadas e integrales:"
      ]
    },
    {
      "cell_type": "code",
      "execution_count": null,
      "metadata": {
        "colab": {
          "base_uri": "https://localhost:8080/",
          "height": 37
        },
        "id": "8aOxN2JDQlt-",
        "outputId": "474fbe74-ac76-4a72-afb4-75af48b27374"
      },
      "outputs": [
        {
          "output_type": "execute_result",
          "data": {
            "text/plain": [
              "10"
            ],
            "text/latex": "$\\displaystyle 10$"
          },
          "metadata": {},
          "execution_count": 11
        }
      ],
      "source": [
        "rl=sp.limit(10*x/(x+1),x,sp.oo)\n",
        "rl"
      ]
    },
    {
      "cell_type": "code",
      "execution_count": null,
      "metadata": {
        "colab": {
          "base_uri": "https://localhost:8080/",
          "height": 38
        },
        "id": "SL_jUU92Qlt-",
        "outputId": "494d1f00-7cff-44dd-e1e7-e53a2b687912"
      },
      "outputs": [
        {
          "output_type": "execute_result",
          "data": {
            "text/plain": [
              "3*cos(3*x)"
            ],
            "text/latex": "$\\displaystyle 3 \\cos{\\left(3 x \\right)}$"
          },
          "metadata": {},
          "execution_count": 12
        }
      ],
      "source": [
        "sp.diff(sp.sin(3*x),x) # Derivada de sin(x)"
      ]
    },
    {
      "cell_type": "code",
      "execution_count": null,
      "metadata": {
        "colab": {
          "base_uri": "https://localhost:8080/",
          "height": 38
        },
        "id": "Kk_72XHHQlt_",
        "outputId": "57f076a7-edfc-4790-a6fc-c3a30ea41d46"
      },
      "outputs": [
        {
          "output_type": "execute_result",
          "data": {
            "text/plain": [
              "-9*sin(3*x)"
            ],
            "text/latex": "$\\displaystyle - 9 \\sin{\\left(3 x \\right)}$"
          },
          "metadata": {},
          "execution_count": 13
        }
      ],
      "source": [
        "sp.diff(sp.sin(3*x),x,2) # Segunda derivada de sin(x)"
      ]
    },
    {
      "cell_type": "code",
      "execution_count": null,
      "metadata": {
        "colab": {
          "base_uri": "https://localhost:8080/",
          "height": 38
        },
        "id": "K15jiGQyQlt_",
        "outputId": "72b9a468-ffd2-4691-b79f-325d38a15b12"
      },
      "outputs": [
        {
          "output_type": "execute_result",
          "data": {
            "text/plain": [
              "log(x)"
            ],
            "text/latex": "$\\displaystyle \\log{\\left(x \\right)}$"
          },
          "metadata": {},
          "execution_count": 14
        }
      ],
      "source": [
        "sp.integrate(1/x, x) # Integral sin definir"
      ]
    },
    {
      "cell_type": "code",
      "execution_count": null,
      "metadata": {
        "colab": {
          "base_uri": "https://localhost:8080/",
          "height": 37
        },
        "id": "bAF9xtJiQluB",
        "outputId": "b888085a-7a8f-4146-d483-1fb18a90feeb"
      },
      "outputs": [
        {
          "output_type": "execute_result",
          "data": {
            "text/plain": [
              "log(2)"
            ],
            "text/latex": "$\\displaystyle \\log{\\left(2 \\right)}$"
          },
          "metadata": {},
          "execution_count": 15
        }
      ],
      "source": [
        "sp.integrate(1/x, (x,1,2)) # Integral definida"
      ]
    }
  ],
  "metadata": {
    "kernelspec": {
      "display_name": "Python 3 (ipykernel)",
      "language": "python",
      "name": "python3"
    },
    "language_info": {
      "codemirror_mode": {
        "name": "ipython",
        "version": 3
      },
      "file_extension": ".py",
      "mimetype": "text/x-python",
      "name": "python",
      "nbconvert_exporter": "python",
      "pygments_lexer": "ipython3",
      "version": "3.10.3"
    },
    "colab": {
      "provenance": [],
      "collapsed_sections": []
    }
  },
  "nbformat": 4,
  "nbformat_minor": 0
}